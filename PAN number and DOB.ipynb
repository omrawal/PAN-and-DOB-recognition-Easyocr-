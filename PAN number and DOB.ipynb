{
 "cells": [
  {
   "cell_type": "code",
   "execution_count": 1,
   "metadata": {},
   "outputs": [],
   "source": [
    "import os\n",
    "os.environ['KMP_DUPLICATE_LIB_OK']='True' # so that kernel doesn't fie in between\n",
    "import easyocr\n",
    "import cv2"
   ]
  },
  {
   "cell_type": "code",
   "execution_count": 2,
   "metadata": {},
   "outputs": [],
   "source": [
    "files_array=['Pan_images/1.jpg','Pan_images/2.jpg','Pan_images/3.jpg']"
   ]
  },
  {
   "cell_type": "code",
   "execution_count": 3,
   "metadata": {},
   "outputs": [],
   "source": [
    "def scanPanCard(image_address): #takes image address as input and returns DOB and PAN string as tuple\n",
    "    reader=easyocr.Reader(['en']) #configuration to read english language\n",
    "    img=cv2.imread(image_address)\n",
    "    bounds=reader.readtext(img)    #reading text with the location coordinated\n",
    "    str_value=[]\n",
    "    for x in bounds:\n",
    "        str_value.append(x[1])     # creating a list of all text detected\n",
    "    dob=None\n",
    "    pan=None\n",
    "    for i in range(len(str_value)):\n",
    "        if(len(str_value[i])==10):\n",
    "            if(str_value[i].count('/')==2):    # dob is the only text that containg 2 '/'\n",
    "                dob=str_value[i]\n",
    "        if(str_value[i]=='Permanent Account Number Card'): # the text immediately after 'Permanent Account Number Card' is PAN\n",
    "                pan=str_value[i+1]\n",
    "    return (dob,pan)       #returning the values as tuple\n",
    "    "
   ]
  },
  {
   "cell_type": "code",
   "execution_count": 4,
   "metadata": {},
   "outputs": [
    {
     "name": "stderr",
     "output_type": "stream",
     "text": [
      "CUDA not available - defaulting to CPU. Note: This module is much faster with a GPU.\n",
      "CUDA not available - defaulting to CPU. Note: This module is much faster with a GPU.\n"
     ]
    },
    {
     "name": "stdout",
     "output_type": "stream",
     "text": [
      "Image =  Pan_images/1.jpg  PAN =  30/01/1997  D.O.B =  ELWPM8089J\n"
     ]
    },
    {
     "name": "stderr",
     "output_type": "stream",
     "text": [
      "CUDA not available - defaulting to CPU. Note: This module is much faster with a GPU.\n"
     ]
    },
    {
     "name": "stdout",
     "output_type": "stream",
     "text": [
      "Image =  Pan_images/2.jpg  PAN =  13/09/1996  D.O.B =  BXAPC1OOOL\n",
      "Image =  Pan_images/3.jpg  PAN =  18/03/1996  D.O.B =  BGYPJ0129A\n"
     ]
    }
   ],
   "source": [
    "for i in files_array:\n",
    "    PAN,DOB=scanPanCard(i) # unpacking the tuple \n",
    "    print('Image = ',i,' PAN = ',PAN,' D.O.B = ',DOB)"
   ]
  },
  {
   "cell_type": "code",
   "execution_count": null,
   "metadata": {},
   "outputs": [],
   "source": []
  }
 ],
 "metadata": {
  "kernelspec": {
   "display_name": "Python 3.6.10 64-bit ('python-cvcourse': conda)",
   "language": "python",
   "name": "python361064bitpythoncvcourseconda5b0f7ab4c8f04243943653c24415819b"
  },
  "language_info": {
   "codemirror_mode": {
    "name": "ipython",
    "version": 3
   },
   "file_extension": ".py",
   "mimetype": "text/x-python",
   "name": "python",
   "nbconvert_exporter": "python",
   "pygments_lexer": "ipython3",
   "version": "3.6.10"
  }
 },
 "nbformat": 4,
 "nbformat_minor": 4
}
